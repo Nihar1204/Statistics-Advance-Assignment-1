{
 "cells": [
  {
   "cell_type": "markdown",
   "id": "9a1b3b3c-7099-415d-8411-55163a382fe0",
   "metadata": {},
   "source": [
    "## Statistics Advance Assignment-1"
   ]
  },
  {
   "cell_type": "code",
   "execution_count": 1,
   "id": "64d192ad-ed2e-47ec-ac0d-98a9953a4864",
   "metadata": {},
   "outputs": [],
   "source": [
    "# Q1. What is the Probability density function?\n",
    "\n",
    "# Probability Density Function or PDF is a type of probability distribution function which is applied on continuous random\n",
    "# variable. And it describes the likelihood of a continuous random variable falling within a particualr range of values."
   ]
  },
  {
   "cell_type": "code",
   "execution_count": 2,
   "id": "fc28097f-8905-45e9-ae58-a3f835443123",
   "metadata": {},
   "outputs": [],
   "source": [
    "# Q2. What are the types of Probability distribution?\n",
    "\n",
    "# There are two types of Probability Distribution:\n",
    "\n",
    "# 1: Discrete Probability Distributions:\n",
    "# Bernoulli Distribution: Represents the probability of success or failure in a single experiment with two possible \n",
    "# outcomes.\n",
    "# Binomial Distribution: Describes the number of successes in a fixed number of independent Bernoulli trials.\n",
    "# Poisson Distribution: Models the number of events occurring in a fixed interval of time or space, given a known \n",
    "# average rate of occurrence.\n",
    "# Uniform Distribution: All values within a certain interval are equally likely.\n",
    "\n",
    "# Continuous Probability Distributions:\n",
    "# Normal Distribution (Gaussian Distribution): Characterized by a bell-shaped curve and is widely used due to the central \n",
    "# limit theorem.\n",
    "# Exponential Distribution: Describes the time between events in a Poisson process, such as the time until the next \n",
    "# radioactive decay.\n",
    "# Gamma Distribution: Generalizes the exponential distribution to handle waiting times until the n-th event in a \n",
    "# Poisson process.\n",
    "# Chi-Square Distribution: Arises in the context of hypothesis testing and is the sum of squared standard normal deviates.\n",
    "# Student's t-Distribution: Used in hypothesis testing when the sample size is small or when the population \n",
    "# standard deviation is unknown.`"
   ]
  },
  {
   "cell_type": "code",
   "execution_count": 3,
   "id": "cfb7274e-b395-4b74-9c8c-c54433226047",
   "metadata": {},
   "outputs": [
    {
     "name": "stdout",
     "output_type": "stream",
     "text": [
      "PDF at x = 1 : 0.24197072451914337\n"
     ]
    }
   ],
   "source": [
    "# Q3. Write a Python function to calculate the probability density function of a normal distribution with\n",
    "# given mean and standard deviation at a given point.\n",
    "\n",
    "import math\n",
    "def PDF(x, mean, std):\n",
    "    \"\"\"\n",
    "    Calculate the probability density function (PDF) of a normal distribution.\n",
    "\n",
    "    Parameters:\n",
    "        x (float): The point at which to evaluate the PDF.\n",
    "        mean (float): The mean (average) of the normal distribution.\n",
    "        std_dev (float): The standard deviation (spread) of the normal distribution.\n",
    "\n",
    "    Returns:\n",
    "        float: The value of the PDF at the given point.\n",
    "    \"\"\"\n",
    "    \n",
    "    coeff = 1 / (std * math.sqrt(2 * math.pi))\n",
    "    exponent = -0.5 * ((x - mean) / std) ** 2\n",
    "    pdf = coeff * math.exp(exponent)\n",
    "    \n",
    "    return pdf\n",
    "\n",
    "mean = 0\n",
    "std_dev = 1\n",
    "x_value = 1\n",
    "pdf_at_x = PDF(x_value, mean, std_dev)\n",
    "print(\"PDF at x =\", x_value, \":\", pdf_at_x)"
   ]
  },
  {
   "cell_type": "code",
   "execution_count": 4,
   "id": "3096ddf9-735e-4ce3-8331-b8807e3e9e34",
   "metadata": {},
   "outputs": [],
   "source": [
    "# Q4. What are the properties of Binomial distribution? Give two examples of events where binomial distribution can\n",
    "# be applied.\n",
    "\n",
    "# Binomial distribution is nothing but an extended version of Bernoulli distribution. Means in Bernoulli distribution\n",
    "# we observe only one experiment but in Binomial distribution we observe a series of experiments. Where the result for\n",
    "# all the experiments are in binary.\n",
    "\n",
    "# Formula of Binomial distribution:\n",
    "# C(n, k) * (p ^ k) * ((1 - p) ^ n-k)\n",
    "\n",
    "# eg: 1\n",
    "# In a series of 10 coin flips, what is the probability of getting exactly 7 heads, assuming a fair coin?\n",
    "\n",
    "# eg: 2\n",
    "# A basketball player takes 20 free throws, and their success rate is 0.75. What is the probability they make \n",
    "# at least 15 shots?"
   ]
  },
  {
   "cell_type": "code",
   "execution_count": 5,
   "id": "ae5e25ec-80f1-488f-a152-efcddec86c0a",
   "metadata": {},
   "outputs": [
    {
     "data": {
      "image/png": "[encoded data removed]",
      "text/plain": [
       "<Figure size 640x480 with 1 Axes>"
      ]
     },
     "metadata": {},
     "output_type": "display_data"
    }
   ],
   "source": [
    "# Q5. Generate a random sample of size 1000 from a binomial distribution with probability of success 0.4\n",
    "# and plot a histogram of the results using matplotlib.\n",
    "\n",
    "import numpy as np\n",
    "import matplotlib.pyplot as plt\n",
    "\n",
    "# Parameters\n",
    "probability_of_success = 0.4\n",
    "sample_size = 1000\n",
    "\n",
    "# Generate random sample from binomial distribution\n",
    "random_sample = np.random.binomial(n=1, p=probability_of_success, size=sample_size)\n",
    "\n",
    "# Plot histogram\n",
    "plt.hist(random_sample, bins=2, color='skyblue', edgecolor='black')\n",
    "plt.title('Histogram of Random Sample from Binomial Distribution')\n",
    "plt.xlabel('Outcome (0: Failure, 1: Success)')\n",
    "plt.ylabel('Frequency')\n",
    "plt.xticks([0, 1])\n",
    "plt.show()\n"
   ]
  },
  {
   "cell_type": "code",
   "execution_count": 6,
   "id": "4fd76672-9b6f-4bdf-b119-479d03017809",
   "metadata": {},
   "outputs": [
    {
     "name": "stdout",
     "output_type": "stream",
     "text": [
      "CDF at k = 2 : 0.42319008112684353\n"
     ]
    }
   ],
   "source": [
    "# Q6. Write a Python function to calculate the cumulative distribution function of a Poisson distribution\n",
    "# with given mean at a given point.\n",
    "\n",
    "def poisson_cdf(k, mean):\n",
    "    \"\"\"\n",
    "    Calculate the cumulative distribution function (CDF) of a Poisson distribution.\n",
    "\n",
    "    Parameters:\n",
    "        k (int): The point at which to evaluate the CDF.\n",
    "        mean (float): The mean of the Poisson distribution.\n",
    "\n",
    "    Returns:\n",
    "        float: The value of the CDF at the given point.\n",
    "    \"\"\"\n",
    "    cdf_value = 0\n",
    "    for i in range(k + 1):\n",
    "        cdf_value += (mean ** i) * math.exp(-mean) / math.factorial(i)\n",
    "    return cdf_value\n",
    "\n",
    "# Example usage:\n",
    "mean = 3\n",
    "point = 2\n",
    "cdf_at_point = poisson_cdf(point, mean)\n",
    "print(\"CDF at k =\", point, \":\", cdf_at_point)"
   ]
  },
  {
   "cell_type": "code",
   "execution_count": 7,
   "id": "619994a0-bb57-43af-a5b9-ad0e37597b30",
   "metadata": {},
   "outputs": [],
   "source": [
    "# Q7. How Binomial distribution different from Poisson distribution?\n",
    "\n",
    "# 1: Nature of the Process:\n",
    "\n",
    "# Binomial Distribution: It describes the number of successes in a fixed number(n) of independent trials, where each\n",
    "# trial has only two possible outcomes (success or failure), and the probability of success (p) is constant for\n",
    "# each trial.\n",
    "# Poisson Distribution: It describes the number of events occurring in a fixed interval of time or space, given a known\n",
    "#average rate(λ) of occurrence. The events are assumed to occur independently of each other, and the probability of an\n",
    "# event occurring in a small interval is proportional to the length of the interval.\n",
    "\n",
    "#Number of Trials:\n",
    "\n",
    "# Binomial Distribution: The number of trials(n) is fixed and finite.\n",
    "# Poisson Distribution: There is no fixed number of trials; it deals with the number of events occurring in a continuous\n",
    "# or infinite sequence. \n",
    "\n",
    "# Probability of Success:\n",
    "\n",
    "# Binomial Distribution: Each trial has a constant probability of success(p).\n",
    "# Poisson Distribution: The probability of an event occurring in a small interval is proportional to the length of the\n",
    "# interval and is independent of previous events."
   ]
  },
  {
   "cell_type": "code",
   "execution_count": 8,
   "id": "e04557b9-c535-44d7-b284-23e5a0c9196b",
   "metadata": {},
   "outputs": [
    {
     "data": {
      "text/plain": [
       "(5.13, 4.9591)"
      ]
     },
     "execution_count": 8,
     "metadata": {},
     "output_type": "execute_result"
    }
   ],
   "source": [
    "# Q8. Generate a random sample of size 1000 from a Poisson distribution with mean 5 and calculate the\n",
    "# sample mean and variance.\n",
    "\n",
    "smaple_size = 1000\n",
    "\n",
    "poisson_distribution = np.random.poisson(lam = 5.0, size = sample_size)\n",
    "\n",
    "sample_mean = poisson_distribution.mean()\n",
    "variance = poisson_distribution.var()\n",
    "\n",
    "sample_mean, variance"
   ]
  },
  {
   "cell_type": "code",
   "execution_count": 9,
   "id": "8f52ab34-bc37-46ab-b769-bc5293a9a079",
   "metadata": {},
   "outputs": [],
   "source": [
    "# Q9. How mean and variance are related in Binomial distribution and Poisson distribution?\n",
    "\n",
    "# Binomial distribution: \n",
    "\n",
    "# Mean: For a binomial distribution, the mean is equal to n * p. Where n is the number of trials and p is the\n",
    "# probability of success in each trial.\n",
    "# Variance: The variance of a Binomial distribution given by n * p * q. That means the variance depends on both success\n",
    "# and failure. \n",
    "\n",
    "# Poisson Distribution:\n",
    "\n",
    "# Mean: For a Poisson distribution, the mean  is equal to λ, where λ is the average rate of occurrence of events\n",
    "# in the given interval.\n",
    "# Variance: The variance of a Poisson distribution is also equal to λ.\n",
    "\n",
    "# In summary, while both Binomial and Poisson distribution have a relationship between mean and variance, the nature \n",
    "# of this relationship differs."
   ]
  },
  {
   "cell_type": "code",
   "execution_count": 10,
   "id": "1a235cfd-f4c2-4981-b2da-1ade5ae26159",
   "metadata": {},
   "outputs": [],
   "source": [
    "# Q10. In normal distribution with respect to mean position, where does the least frequent data appear?\n",
    "\n",
    "# In a normal distribution, the data points are symmetrically distributed around the mean. Therefore, the least\n",
    "# frequent data points appear in the tails of the distribution, farthest away from the mean."
   ]
  },
  {
   "cell_type": "code",
   "execution_count": null,
   "id": "e8c52bae-a75a-42ec-a6ad-2c579cc9954b",
   "metadata": {},
   "outputs": [],
   "source": []
  }
 ],
 "metadata": {
  "kernelspec": {
   "display_name": "Python 3 (ipykernel)",
   "language": "python",
   "name": "python3"
  },
  "language_info": {
   "codemirror_mode": {
    "name": "ipython",
    "version": 3
   },
   "file_extension": ".py",
   "mimetype": "text/x-python",
   "name": "python",
   "nbconvert_exporter": "python",
   "pygments_lexer": "ipython3",
   "version": "3.10.8"
  }
 },
 "nbformat": 4,
 "nbformat_minor": 5
}
